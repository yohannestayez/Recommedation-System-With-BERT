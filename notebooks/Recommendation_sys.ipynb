{
 "cells": [
  {
   "cell_type": "code",
   "execution_count": 1,
   "metadata": {},
   "outputs": [],
   "source": [
    "import sys\n",
    "sys.path.append('../src')\n",
    "sys.path.append('../scripts')\n",
    "sys.path.append('../tf_idf_Recommender')\n",
    "\n",
    "import warnings\n",
    "warnings.filterwarnings(\"ignore\")\n",
    "\n",
    "from evaluation import *\n",
    "from main import *\n",
    "from tfidf_recommender import *"
   ]
  },
  {
   "cell_type": "markdown",
   "metadata": {},
   "source": [
    "## Recommendation System"
   ]
  },
  {
   "cell_type": "markdown",
   "metadata": {},
   "source": [
    "### BERT"
   ]
  },
  {
   "cell_type": "code",
   "execution_count": 2,
   "metadata": {},
   "outputs": [
    {
     "name": "stderr",
     "output_type": "stream",
     "text": [
      "Some weights of the model checkpoint at bert-base-uncased were not used when initializing BertModel: ['cls.predictions.bias', 'cls.predictions.transform.LayerNorm.bias', 'cls.seq_relationship.weight', 'cls.seq_relationship.bias', 'cls.predictions.transform.dense.weight', 'cls.predictions.transform.LayerNorm.weight', 'cls.predictions.transform.dense.bias']\n",
      "- This IS expected if you are initializing BertModel from the checkpoint of a model trained on another task or with another architecture (e.g. initializing a BertForSequenceClassification model from a BertForPreTraining model).\n",
      "- This IS NOT expected if you are initializing BertModel from the checkpoint of a model that you expect to be exactly identical (initializing a BertForSequenceClassification model from a BertForSequenceClassification model).\n"
     ]
    },
    {
     "name": "stdout",
     "output_type": "stream",
     "text": [
      "\n",
      "\n",
      " Recommendtions for French Red wine are: \n"
     ]
    },
    {
     "data": {
      "text/html": [
       "<div>\n",
       "<style scoped>\n",
       "    .dataframe tbody tr th:only-of-type {\n",
       "        vertical-align: middle;\n",
       "    }\n",
       "\n",
       "    .dataframe tbody tr th {\n",
       "        vertical-align: top;\n",
       "    }\n",
       "\n",
       "    .dataframe thead th {\n",
       "        text-align: right;\n",
       "    }\n",
       "</style>\n",
       "<table border=\"1\" class=\"dataframe\">\n",
       "  <thead>\n",
       "    <tr style=\"text-align: right;\">\n",
       "      <th></th>\n",
       "      <th>title</th>\n",
       "      <th>description</th>\n",
       "      <th>winery</th>\n",
       "      <th>variety</th>\n",
       "      <th>country</th>\n",
       "      <th>price_range</th>\n",
       "    </tr>\n",
       "  </thead>\n",
       "  <tbody>\n",
       "    <tr>\n",
       "      <th>52834</th>\n",
       "      <td>Monmousseau NV Cuvée J.M. Rosé Brut Sparkling ...</td>\n",
       "      <td>Fresh with the attractive cool feel thats typi...</td>\n",
       "      <td>Monmousseau</td>\n",
       "      <td>Sparkling Blend</td>\n",
       "      <td>France</td>\n",
       "      <td>Low</td>\n",
       "    </tr>\n",
       "    <tr>\n",
       "      <th>13349</th>\n",
       "      <td>Château de Parenchère 2014  Bordeaux Blanc</td>\n",
       "      <td>Very fruity this is a crisp lemonscented and f...</td>\n",
       "      <td>Château de Parenchère</td>\n",
       "      <td>Bordeaux-style White Blend</td>\n",
       "      <td>France</td>\n",
       "      <td>Low</td>\n",
       "    </tr>\n",
       "    <tr>\n",
       "      <th>15252</th>\n",
       "      <td>Univitis 2009 Chevalier de Saint-André  (Borde...</td>\n",
       "      <td>Produced by the largest Bordeaux cooperative t...</td>\n",
       "      <td>Univitis</td>\n",
       "      <td>Bordeaux-style Red Blend</td>\n",
       "      <td>France</td>\n",
       "      <td>Low</td>\n",
       "    </tr>\n",
       "    <tr>\n",
       "      <th>27605</th>\n",
       "      <td>Château La Rose du Pin 2009  Bordeaux Blanc</td>\n",
       "      <td>A very herbaceous Sauvignon aroma crisp and fr...</td>\n",
       "      <td>Château La Rose du Pin</td>\n",
       "      <td>Bordeaux-style White Blend</td>\n",
       "      <td>France</td>\n",
       "      <td>Low</td>\n",
       "    </tr>\n",
       "    <tr>\n",
       "      <th>23797</th>\n",
       "      <td>Kiona 2013 Estate Bottled Reserve Red (Red Mou...</td>\n",
       "      <td>This wine is principally Cabernet Sauvignon 52...</td>\n",
       "      <td>Kiona</td>\n",
       "      <td>Bordeaux-style Red Blend</td>\n",
       "      <td>US</td>\n",
       "      <td>Medium</td>\n",
       "    </tr>\n",
       "  </tbody>\n",
       "</table>\n",
       "</div>"
      ],
      "text/plain": [
       "                                                   title  \\\n",
       "52834  Monmousseau NV Cuvée J.M. Rosé Brut Sparkling ...   \n",
       "13349         Château de Parenchère 2014  Bordeaux Blanc   \n",
       "15252  Univitis 2009 Chevalier de Saint-André  (Borde...   \n",
       "27605        Château La Rose du Pin 2009  Bordeaux Blanc   \n",
       "23797  Kiona 2013 Estate Bottled Reserve Red (Red Mou...   \n",
       "\n",
       "                                             description  \\\n",
       "52834  Fresh with the attractive cool feel thats typi...   \n",
       "13349  Very fruity this is a crisp lemonscented and f...   \n",
       "15252  Produced by the largest Bordeaux cooperative t...   \n",
       "27605  A very herbaceous Sauvignon aroma crisp and fr...   \n",
       "23797  This wine is principally Cabernet Sauvignon 52...   \n",
       "\n",
       "                       winery                     variety country price_range  \n",
       "52834             Monmousseau             Sparkling Blend  France         Low  \n",
       "13349   Château de Parenchère  Bordeaux-style White Blend  France         Low  \n",
       "15252                Univitis    Bordeaux-style Red Blend  France         Low  \n",
       "27605  Château La Rose du Pin  Bordeaux-style White Blend  France         Low  \n",
       "23797                   Kiona    Bordeaux-style Red Blend      US      Medium  "
      ]
     },
     "metadata": {},
     "output_type": "display_data"
    }
   ],
   "source": [
    "query=input(\"Enter Wine description: \")\n",
    "recommendations = recommend(query)\n",
    "print(f\"\\n\\n Recommendtions for {query} are: \" )\n",
    "display(recommendations[[\"title\", \"description\", \"winery\",\"variety\",\"country\", \"price_range\"]])"
   ]
  },
  {
   "cell_type": "markdown",
   "metadata": {},
   "source": [
    "#### Evaluation"
   ]
  },
  {
   "cell_type": "code",
   "execution_count": 3,
   "metadata": {},
   "outputs": [
    {
     "name": "stderr",
     "output_type": "stream",
     "text": [
      "Evaluating: 100%|██████████| 22308/22308 [11:30<00:00, 32.31it/s]"
     ]
    },
    {
     "name": "stdout",
     "output_type": "stream",
     "text": [
      "\n",
      "Evaluation Results:\n",
      "Precision@10: 0.7117\n",
      "Precision@15: 0.7133\n",
      "Recall@10: 0.6398\n",
      "Recall@15: 0.9775\n"
     ]
    },
    {
     "name": "stderr",
     "output_type": "stream",
     "text": [
      "\n"
     ]
    }
   ],
   "source": [
    "evaluator = Evaluator()\n",
    "metrics = evaluator.evaluate()\n",
    "print(\"\\nEvaluation Results:\")\n",
    "for metric, value in metrics.items():\n",
    "    print(f\"{metric}: {value:.4f}\")"
   ]
  },
  {
   "cell_type": "markdown",
   "metadata": {},
   "source": [
    "### TF-IDF"
   ]
  },
  {
   "cell_type": "code",
   "execution_count": 7,
   "metadata": {},
   "outputs": [
    {
     "name": "stdout",
     "output_type": "stream",
     "text": [
      "Top Recommendations:\n"
     ]
    },
    {
     "data": {
      "text/html": [
       "<div>\n",
       "<style scoped>\n",
       "    .dataframe tbody tr th:only-of-type {\n",
       "        vertical-align: middle;\n",
       "    }\n",
       "\n",
       "    .dataframe tbody tr th {\n",
       "        vertical-align: top;\n",
       "    }\n",
       "\n",
       "    .dataframe thead th {\n",
       "        text-align: right;\n",
       "    }\n",
       "</style>\n",
       "<table border=\"1\" class=\"dataframe\">\n",
       "  <thead>\n",
       "    <tr style=\"text-align: right;\">\n",
       "      <th></th>\n",
       "      <th>title</th>\n",
       "      <th>description</th>\n",
       "      <th>winery</th>\n",
       "      <th>variety</th>\n",
       "      <th>country</th>\n",
       "      <th>price_range</th>\n",
       "    </tr>\n",
       "  </thead>\n",
       "  <tbody>\n",
       "    <tr>\n",
       "      <th>11536</th>\n",
       "      <td>Teanum 2008 Gran Tiati Gold Vintage Red (Puglia)</td>\n",
       "      <td>Almost too much of a good thing this wine was ...</td>\n",
       "      <td>Teanum</td>\n",
       "      <td>Red Blend</td>\n",
       "      <td>Italy</td>\n",
       "      <td>Medium</td>\n",
       "    </tr>\n",
       "    <tr>\n",
       "      <th>109396</th>\n",
       "      <td>Vivác Winery NV Red Hot Mama Red (New Mexico)</td>\n",
       "      <td>This red blend offers a nose of spiced wood to...</td>\n",
       "      <td>Vivác Winery</td>\n",
       "      <td>Red Blend</td>\n",
       "      <td>US</td>\n",
       "      <td>Low</td>\n",
       "    </tr>\n",
       "    <tr>\n",
       "      <th>78972</th>\n",
       "      <td>Yatir 2006 Kosher Red Wine Red (Judean Hills)</td>\n",
       "      <td>The mouthfeel of this wine is beautiful with a...</td>\n",
       "      <td>Yatir</td>\n",
       "      <td>Red Blend</td>\n",
       "      <td>Israel</td>\n",
       "      <td>Medium</td>\n",
       "    </tr>\n",
       "    <tr>\n",
       "      <th>38802</th>\n",
       "      <td>Dessilani 2004  Ghemme</td>\n",
       "      <td>This is a genuine and straightforward red wine...</td>\n",
       "      <td>Dessilani</td>\n",
       "      <td>Red Blend</td>\n",
       "      <td>Italy</td>\n",
       "      <td>Medium</td>\n",
       "    </tr>\n",
       "    <tr>\n",
       "      <th>11997</th>\n",
       "      <td>Casa Rondeña Winery 2005 Calvin Clarion Red (N...</td>\n",
       "      <td>A pretty floral nose and appetizing juicy flav...</td>\n",
       "      <td>Casa Rondeña Winery</td>\n",
       "      <td>Red Blend</td>\n",
       "      <td>US</td>\n",
       "      <td>Medium</td>\n",
       "    </tr>\n",
       "  </tbody>\n",
       "</table>\n",
       "</div>"
      ],
      "text/plain": [
       "                                                    title  \\\n",
       "11536    Teanum 2008 Gran Tiati Gold Vintage Red (Puglia)   \n",
       "109396      Vivác Winery NV Red Hot Mama Red (New Mexico)   \n",
       "78972       Yatir 2006 Kosher Red Wine Red (Judean Hills)   \n",
       "38802                              Dessilani 2004  Ghemme   \n",
       "11997   Casa Rondeña Winery 2005 Calvin Clarion Red (N...   \n",
       "\n",
       "                                              description  \\\n",
       "11536   Almost too much of a good thing this wine was ...   \n",
       "109396  This red blend offers a nose of spiced wood to...   \n",
       "78972   The mouthfeel of this wine is beautiful with a...   \n",
       "38802   This is a genuine and straightforward red wine...   \n",
       "11997   A pretty floral nose and appetizing juicy flav...   \n",
       "\n",
       "                     winery    variety country price_range  \n",
       "11536                Teanum  Red Blend   Italy      Medium  \n",
       "109396         Vivác Winery  Red Blend      US         Low  \n",
       "78972                 Yatir  Red Blend  Israel      Medium  \n",
       "38802             Dessilani  Red Blend   Italy      Medium  \n",
       "11997   Casa Rondeña Winery  Red Blend      US      Medium  "
      ]
     },
     "metadata": {},
     "output_type": "display_data"
    }
   ],
   "source": [
    "recommender = TFIDFRecommender()\n",
    "    \n",
    "# Example usage\n",
    "x :str =input(\"Enter Wine description: \")\n",
    "price_cat= input(\"Enter price category: \")\n",
    "points_cat= input(\"Enter points category: \")\n",
    "results = recommender.recommend(\n",
    "    x,\n",
    "    price_cat=price_cat,\n",
    "    points_cat=points_cat\n",
    ")\n",
    "\n",
    "print(\"Top Recommendations:\")\n",
    "display(results[[\"title\", \"description\", \"winery\",\"variety\",\"country\", \"price_range\"]].head(5))\n",
    "    "
   ]
  },
  {
   "cell_type": "markdown",
   "metadata": {},
   "source": [
    "#### Evaluation"
   ]
  },
  {
   "cell_type": "code",
   "execution_count": null,
   "metadata": {},
   "outputs": [
    {
     "name": "stdout",
     "output_type": "stream",
     "text": [
      "\n",
      "Evaluation Metrics:\n",
      "Precision@5: 1.0000\n",
      "Recall@5: 0.4493\n"
     ]
    }
   ],
   "source": [
    "# Example evaluation\n",
    "test_queries = [\n",
    "    \"Dry white wine from France\",\n",
    "    \"Bold Cabernet with tannins\",\n",
    "    \"Award-winning Chardonnay\",\n",
    "    \"Red wine\"\n",
    "]\n",
    "metrics = recommender.evaluate(test_queries)\n",
    "print(\"\\nEvaluation Metrics:\")\n",
    "print(f\"Precision@5: {metrics['precision']:.4f}\")\n",
    "print(f\"Recall@5: {metrics['recall']:.4f}\")"
   ]
  }
 ],
 "metadata": {
  "kernelspec": {
   "display_name": "Python 3",
   "language": "python",
   "name": "python3"
  },
  "language_info": {
   "codemirror_mode": {
    "name": "ipython",
    "version": 3
   },
   "file_extension": ".py",
   "mimetype": "text/x-python",
   "name": "python",
   "nbconvert_exporter": "python",
   "pygments_lexer": "ipython3",
   "version": "3.9.20"
  }
 },
 "nbformat": 4,
 "nbformat_minor": 2
}
