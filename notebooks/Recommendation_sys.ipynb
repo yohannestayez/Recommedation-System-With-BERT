{
 "cells": [
  {
   "cell_type": "code",
   "execution_count": 1,
   "metadata": {},
   "outputs": [],
   "source": [
    "import sys\n",
    "sys.path.append('../src')\n",
    "sys.path.append('../scripts')\n",
    "sys.path.append('../tf_idf_Recommender')\n",
    "\n",
    "import warnings\n",
    "warnings.filterwarnings(\"ignore\")\n",
    "\n",
    "from evaluation import *\n",
    "from main import *\n",
    "from tfidf_recommender import *"
   ]
  },
  {
   "cell_type": "markdown",
   "metadata": {},
   "source": [
    "## Recommendation System"
   ]
  },
  {
   "cell_type": "markdown",
   "metadata": {},
   "source": [
    "### BERT"
   ]
  },
  {
   "cell_type": "code",
   "execution_count": 8,
   "metadata": {},
   "outputs": [
    {
     "name": "stderr",
     "output_type": "stream",
     "text": [
      "Some weights of the model checkpoint at bert-base-uncased were not used when initializing BertModel: ['cls.predictions.bias', 'cls.predictions.transform.LayerNorm.bias', 'cls.seq_relationship.weight', 'cls.predictions.transform.LayerNorm.weight', 'cls.predictions.transform.dense.weight', 'cls.predictions.transform.dense.bias', 'cls.seq_relationship.bias']\n",
      "- This IS expected if you are initializing BertModel from the checkpoint of a model trained on another task or with another architecture (e.g. initializing a BertForSequenceClassification model from a BertForPreTraining model).\n",
      "- This IS NOT expected if you are initializing BertModel from the checkpoint of a model that you expect to be exactly identical (initializing a BertForSequenceClassification model from a BertForSequenceClassification model).\n"
     ]
    },
    {
     "name": "stdout",
     "output_type": "stream",
     "text": [
      "\n",
      "\n",
      " Recommendtions for North Gate 2008 Viognier (Virginia) are: \n"
     ]
    },
    {
     "data": {
      "text/html": [
       "<div>\n",
       "<style scoped>\n",
       "    .dataframe tbody tr th:only-of-type {\n",
       "        vertical-align: middle;\n",
       "    }\n",
       "\n",
       "    .dataframe tbody tr th {\n",
       "        vertical-align: top;\n",
       "    }\n",
       "\n",
       "    .dataframe thead th {\n",
       "        text-align: right;\n",
       "    }\n",
       "</style>\n",
       "<table border=\"1\" class=\"dataframe\">\n",
       "  <thead>\n",
       "    <tr style=\"text-align: right;\">\n",
       "      <th></th>\n",
       "      <th>title</th>\n",
       "      <th>description</th>\n",
       "      <th>winery</th>\n",
       "      <th>variety</th>\n",
       "      <th>country</th>\n",
       "      <th>price_range</th>\n",
       "    </tr>\n",
       "  </thead>\n",
       "  <tbody>\n",
       "    <tr>\n",
       "      <th>64145</th>\n",
       "      <td>Wilridge 2014 Estate Wilridge Vineyard Syrah-M...</td>\n",
       "      <td>Hightoned aromas of potpourri herb and white p...</td>\n",
       "      <td>Wilridge</td>\n",
       "      <td>Syrah-Mourvèdre</td>\n",
       "      <td>US</td>\n",
       "      <td>Medium</td>\n",
       "    </tr>\n",
       "    <tr>\n",
       "      <th>12135</th>\n",
       "      <td>Le Bertarole 2008  Valpolicella Ripasso Classico</td>\n",
       "      <td>Theres an awkward touch of overripe apple and ...</td>\n",
       "      <td>Le Bertarole</td>\n",
       "      <td>Corvina, Rondinella, Molinara</td>\n",
       "      <td>Italy</td>\n",
       "      <td>Low</td>\n",
       "    </tr>\n",
       "    <tr>\n",
       "      <th>44946</th>\n",
       "      <td>Angel Vine 2008 Les Collines Vineyard Zinfande...</td>\n",
       "      <td>Not quite as good as the 2007 Les Collines fro...</td>\n",
       "      <td>Angel Vine</td>\n",
       "      <td>Zinfandel</td>\n",
       "      <td>US</td>\n",
       "      <td>Medium</td>\n",
       "    </tr>\n",
       "    <tr>\n",
       "      <th>85751</th>\n",
       "      <td>Uvaggio 2013 Zelo Rosso Red (Carneros-Napa Val...</td>\n",
       "      <td>This is a bold combination of 89 Dolcetto from...</td>\n",
       "      <td>Uvaggio</td>\n",
       "      <td>Red Blend</td>\n",
       "      <td>US</td>\n",
       "      <td>Medium</td>\n",
       "    </tr>\n",
       "    <tr>\n",
       "      <th>66460</th>\n",
       "      <td>Cellers Unió 2011 Señorio de Convey Grenache-C...</td>\n",
       "      <td>Jammy aromas of raisin and cassis include a gr...</td>\n",
       "      <td>Cellers Unió</td>\n",
       "      <td>Grenache-Carignan</td>\n",
       "      <td>Spain</td>\n",
       "      <td>Low</td>\n",
       "    </tr>\n",
       "  </tbody>\n",
       "</table>\n",
       "</div>"
      ],
      "text/plain": [
       "                                                   title  \\\n",
       "64145  Wilridge 2014 Estate Wilridge Vineyard Syrah-M...   \n",
       "12135   Le Bertarole 2008  Valpolicella Ripasso Classico   \n",
       "44946  Angel Vine 2008 Les Collines Vineyard Zinfande...   \n",
       "85751  Uvaggio 2013 Zelo Rosso Red (Carneros-Napa Val...   \n",
       "66460  Cellers Unió 2011 Señorio de Convey Grenache-C...   \n",
       "\n",
       "                                             description        winery  \\\n",
       "64145  Hightoned aromas of potpourri herb and white p...      Wilridge   \n",
       "12135  Theres an awkward touch of overripe apple and ...  Le Bertarole   \n",
       "44946  Not quite as good as the 2007 Les Collines fro...    Angel Vine   \n",
       "85751  This is a bold combination of 89 Dolcetto from...       Uvaggio   \n",
       "66460  Jammy aromas of raisin and cassis include a gr...  Cellers Unió   \n",
       "\n",
       "                             variety country price_range  \n",
       "64145                Syrah-Mourvèdre      US      Medium  \n",
       "12135  Corvina, Rondinella, Molinara   Italy         Low  \n",
       "44946                      Zinfandel      US      Medium  \n",
       "85751                      Red Blend      US      Medium  \n",
       "66460              Grenache-Carignan   Spain         Low  "
      ]
     },
     "metadata": {},
     "output_type": "display_data"
    },
    {
     "name": "stdout",
     "output_type": "stream",
     "text": [
      "distance: [46.512177 46.122772 45.968857 45.939682 45.917786]\n"
     ]
    }
   ],
   "source": [
    "query=input(\"Enter Wine description: \")\n",
    "recommendations, distances = recommend(query)\n",
    "print(f\"\\n\\n Recommendtions for {query} are: \" )\n",
    "display(recommendations[[\"title\", \"description\", \"winery\",\"variety\",\"country\", \"price_range\"]])\n",
    "\n",
    "for distance in distances:\n",
    "    print(f\"distance: {distance}\")"
   ]
  },
  {
   "cell_type": "markdown",
   "metadata": {},
   "source": [
    "#### Evaluation"
   ]
  },
  {
   "cell_type": "code",
   "execution_count": 3,
   "metadata": {},
   "outputs": [],
   "source": [
    "# evaluator = Evaluator()\n",
    "# metrics = evaluator.evaluate()\n",
    "# print(\"\\nEvaluation Results:\")\n",
    "# for metric, value in metrics.items():\n",
    "#     print(f\"{metric}: {value:.4f}\")"
   ]
  },
  {
   "cell_type": "markdown",
   "metadata": {},
   "source": [
    "### TF-IDF"
   ]
  },
  {
   "cell_type": "code",
   "execution_count": 4,
   "metadata": {},
   "outputs": [
    {
     "name": "stdout",
     "output_type": "stream",
     "text": [
      "Top Recommendations:\n"
     ]
    },
    {
     "data": {
      "text/html": [
       "<div>\n",
       "<style scoped>\n",
       "    .dataframe tbody tr th:only-of-type {\n",
       "        vertical-align: middle;\n",
       "    }\n",
       "\n",
       "    .dataframe tbody tr th {\n",
       "        vertical-align: top;\n",
       "    }\n",
       "\n",
       "    .dataframe thead th {\n",
       "        text-align: right;\n",
       "    }\n",
       "</style>\n",
       "<table border=\"1\" class=\"dataframe\">\n",
       "  <thead>\n",
       "    <tr style=\"text-align: right;\">\n",
       "      <th></th>\n",
       "      <th>title</th>\n",
       "      <th>description</th>\n",
       "      <th>winery</th>\n",
       "      <th>variety</th>\n",
       "      <th>country</th>\n",
       "      <th>price_range</th>\n",
       "    </tr>\n",
       "  </thead>\n",
       "  <tbody>\n",
       "    <tr>\n",
       "      <th>99</th>\n",
       "      <td>Marchesi de' Frescobaldi 2015 Ammiraglia Masso...</td>\n",
       "      <td>Aromas of yellow stone fruit white spring flow...</td>\n",
       "      <td>Marchesi de' Frescobaldi</td>\n",
       "      <td>Vermentino</td>\n",
       "      <td>Italy</td>\n",
       "      <td>Low</td>\n",
       "    </tr>\n",
       "    <tr>\n",
       "      <th>98</th>\n",
       "      <td>Marchesi de' Frescobaldi 2014 Castiglioni Red ...</td>\n",
       "      <td>A blend of Cabernet Sauvignon Merlot Cabernet ...</td>\n",
       "      <td>Marchesi de' Frescobaldi</td>\n",
       "      <td>Red Blend</td>\n",
       "      <td>Italy</td>\n",
       "      <td>Medium</td>\n",
       "    </tr>\n",
       "    <tr>\n",
       "      <th>97</th>\n",
       "      <td>Marchesi Antinori 2015 Villa Antinori White (T...</td>\n",
       "      <td>Made predominantly with Trebbiano and Malvasia...</td>\n",
       "      <td>Marchesi Antinori</td>\n",
       "      <td>White Blend</td>\n",
       "      <td>Italy</td>\n",
       "      <td>Low</td>\n",
       "    </tr>\n",
       "    <tr>\n",
       "      <th>96</th>\n",
       "      <td>Madonna Alta 2014 Nativo Red (Toscana)</td>\n",
       "      <td>Made with 65 Sangiovese 20 Merlot and 15 Caber...</td>\n",
       "      <td>Madonna Alta</td>\n",
       "      <td>Red Blend</td>\n",
       "      <td>Italy</td>\n",
       "      <td>Low</td>\n",
       "    </tr>\n",
       "    <tr>\n",
       "      <th>95</th>\n",
       "      <td>Leyda 2015 Single Vineyard Falaris Hill Chardo...</td>\n",
       "      <td>A bright nose with green apple and citric arom...</td>\n",
       "      <td>Leyda</td>\n",
       "      <td>Chardonnay</td>\n",
       "      <td>Chile</td>\n",
       "      <td>Low</td>\n",
       "    </tr>\n",
       "  </tbody>\n",
       "</table>\n",
       "</div>"
      ],
      "text/plain": [
       "                                                title  \\\n",
       "99  Marchesi de' Frescobaldi 2015 Ammiraglia Masso...   \n",
       "98  Marchesi de' Frescobaldi 2014 Castiglioni Red ...   \n",
       "97  Marchesi Antinori 2015 Villa Antinori White (T...   \n",
       "96             Madonna Alta 2014 Nativo Red (Toscana)   \n",
       "95  Leyda 2015 Single Vineyard Falaris Hill Chardo...   \n",
       "\n",
       "                                          description  \\\n",
       "99  Aromas of yellow stone fruit white spring flow...   \n",
       "98  A blend of Cabernet Sauvignon Merlot Cabernet ...   \n",
       "97  Made predominantly with Trebbiano and Malvasia...   \n",
       "96  Made with 65 Sangiovese 20 Merlot and 15 Caber...   \n",
       "95  A bright nose with green apple and citric arom...   \n",
       "\n",
       "                      winery      variety country price_range  \n",
       "99  Marchesi de' Frescobaldi   Vermentino   Italy         Low  \n",
       "98  Marchesi de' Frescobaldi    Red Blend   Italy      Medium  \n",
       "97         Marchesi Antinori  White Blend   Italy         Low  \n",
       "96              Madonna Alta    Red Blend   Italy         Low  \n",
       "95                     Leyda   Chardonnay   Chile         Low  "
      ]
     },
     "metadata": {},
     "output_type": "display_data"
    }
   ],
   "source": [
    "recommender = TFIDFRecommender()\n",
    "    \n",
    "# Example usage\n",
    "x :str =input(\"Enter Wine description: \")\n",
    "price_cat= input(\"Enter price category: \")\n",
    "points_cat= input(\"Enter points category: \")\n",
    "results = recommender.recommend(\n",
    "    x,\n",
    "    price_cat=price_cat,\n",
    "    points_cat=points_cat\n",
    ")\n",
    "\n",
    "print(\"Top Recommendations:\")\n",
    "display(results[[\"title\", \"description\", \"winery\",\"variety\",\"country\", \"price_range\"]].head(5))\n",
    "    "
   ]
  },
  {
   "cell_type": "markdown",
   "metadata": {},
   "source": [
    "#### Evaluation"
   ]
  },
  {
   "cell_type": "code",
   "execution_count": 5,
   "metadata": {},
   "outputs": [
    {
     "name": "stdout",
     "output_type": "stream",
     "text": [
      "\n",
      "Evaluation Metrics:\n",
      "Precision@5: 1.0000\n",
      "Recall@5: 0.4493\n"
     ]
    }
   ],
   "source": [
    "# Example evaluation\n",
    "test_queries = [\n",
    "    \"Dry white wine from France\",\n",
    "    \"Bold Cabernet with tannins\",\n",
    "    \"Award-winning Chardonnay\",\n",
    "    \"Red wine\"\n",
    "]\n",
    "metrics = recommender.evaluate(test_queries)\n",
    "print(\"\\nEvaluation Metrics:\")\n",
    "print(f\"Precision@5: {metrics['precision']:.4f}\")\n",
    "print(f\"Recall@5: {metrics['recall']:.4f}\")"
   ]
  }
 ],
 "metadata": {
  "kernelspec": {
   "display_name": "Python 3",
   "language": "python",
   "name": "python3"
  },
  "language_info": {
   "codemirror_mode": {
    "name": "ipython",
    "version": 3
   },
   "file_extension": ".py",
   "mimetype": "text/x-python",
   "name": "python",
   "nbconvert_exporter": "python",
   "pygments_lexer": "ipython3",
   "version": "3.9.20"
  }
 },
 "nbformat": 4,
 "nbformat_minor": 2
}
