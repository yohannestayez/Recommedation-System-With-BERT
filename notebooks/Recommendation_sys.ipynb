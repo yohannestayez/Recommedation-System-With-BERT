{
 "cells": [
  {
   "cell_type": "code",
   "execution_count": 1,
   "metadata": {},
   "outputs": [],
   "source": [
    "import sys\n",
    "sys.path.append('../src')\n",
    "sys.path.append('../scripts')\n",
    "sys.path.append('../tf_idf_Recommender')\n",
    "\n",
    "import warnings\n",
    "warnings.filterwarnings(\"ignore\")\n",
    "\n",
    "from evaluation import *\n",
    "from main import *\n",
    "from tfidf_recommender import *"
   ]
  },
  {
   "cell_type": "markdown",
   "metadata": {},
   "source": [
    "## Recommendation System"
   ]
  },
  {
   "cell_type": "markdown",
   "metadata": {},
   "source": [
    "### BERT"
   ]
  },
  {
   "cell_type": "code",
   "execution_count": null,
   "metadata": {},
   "outputs": [
    {
     "name": "stderr",
     "output_type": "stream",
     "text": [
      "Some weights of the model checkpoint at bert-base-uncased were not used when initializing BertModel: ['cls.predictions.bias', 'cls.predictions.transform.LayerNorm.bias', 'cls.seq_relationship.weight', 'cls.predictions.transform.LayerNorm.weight', 'cls.predictions.transform.dense.weight', 'cls.predictions.transform.dense.bias', 'cls.seq_relationship.bias']\n",
      "- This IS expected if you are initializing BertModel from the checkpoint of a model trained on another task or with another architecture (e.g. initializing a BertForSequenceClassification model from a BertForPreTraining model).\n",
      "- This IS NOT expected if you are initializing BertModel from the checkpoint of a model that you expect to be exactly identical (initializing a BertForSequenceClassification model from a BertForSequenceClassification model).\n"
     ]
    },
    {
     "name": "stdout",
     "output_type": "stream",
     "text": [
      "\n",
      "\n",
      " Recommendtions for fine shit are: \n"
     ]
    },
    {
     "data": {
      "text/html": [
       "<div>\n",
       "<style scoped>\n",
       "    .dataframe tbody tr th:only-of-type {\n",
       "        vertical-align: middle;\n",
       "    }\n",
       "\n",
       "    .dataframe tbody tr th {\n",
       "        vertical-align: top;\n",
       "    }\n",
       "\n",
       "    .dataframe thead th {\n",
       "        text-align: right;\n",
       "    }\n",
       "</style>\n",
       "<table border=\"1\" class=\"dataframe\">\n",
       "  <thead>\n",
       "    <tr style=\"text-align: right;\">\n",
       "      <th></th>\n",
       "      <th>title</th>\n",
       "      <th>description</th>\n",
       "      <th>winery</th>\n",
       "      <th>variety</th>\n",
       "      <th>country</th>\n",
       "      <th>price_range</th>\n",
       "    </tr>\n",
       "  </thead>\n",
       "  <tbody>\n",
       "    <tr>\n",
       "      <th>3385</th>\n",
       "      <td>YN NV Red (California)</td>\n",
       "      <td>Sugary sweet and medicinal like cherry cough s...</td>\n",
       "      <td>YN</td>\n",
       "      <td>Red Blend</td>\n",
       "      <td>US</td>\n",
       "      <td>Low</td>\n",
       "    </tr>\n",
       "    <tr>\n",
       "      <th>10890</th>\n",
       "      <td>R8 2011 Red (California)</td>\n",
       "      <td>This Cabernet gets the job done with its black...</td>\n",
       "      <td>R8</td>\n",
       "      <td>Red Blend</td>\n",
       "      <td>US</td>\n",
       "      <td>Low</td>\n",
       "    </tr>\n",
       "    <tr>\n",
       "      <th>98699</th>\n",
       "      <td>Fog Hill NV Red (Napa County)</td>\n",
       "      <td>Sugary and Porty Okay in a pinch when you need...</td>\n",
       "      <td>Fog Hill</td>\n",
       "      <td>Red Blend</td>\n",
       "      <td>US</td>\n",
       "      <td>Low</td>\n",
       "    </tr>\n",
       "    <tr>\n",
       "      <th>21913</th>\n",
       "      <td>Cottonwood Creek 2010 White (California)</td>\n",
       "      <td>For 10 bucks you get a decent 10 buck wine Not...</td>\n",
       "      <td>Cottonwood Creek</td>\n",
       "      <td>White Blend</td>\n",
       "      <td>US</td>\n",
       "      <td>Low</td>\n",
       "    </tr>\n",
       "    <tr>\n",
       "      <th>82947</th>\n",
       "      <td>Hahn 2011 Nicky Hahn G-S-M (Central Coast)</td>\n",
       "      <td>This is thin and acidic with flavors of sour c...</td>\n",
       "      <td>Hahn</td>\n",
       "      <td>G-S-M</td>\n",
       "      <td>US</td>\n",
       "      <td>Low</td>\n",
       "    </tr>\n",
       "  </tbody>\n",
       "</table>\n",
       "</div>"
      ],
      "text/plain": [
       "                                            title  \\\n",
       "3385                       YN NV Red (California)   \n",
       "10890                    R8 2011 Red (California)   \n",
       "98699               Fog Hill NV Red (Napa County)   \n",
       "21913    Cottonwood Creek 2010 White (California)   \n",
       "82947  Hahn 2011 Nicky Hahn G-S-M (Central Coast)   \n",
       "\n",
       "                                             description            winery  \\\n",
       "3385   Sugary sweet and medicinal like cherry cough s...                YN   \n",
       "10890  This Cabernet gets the job done with its black...                R8   \n",
       "98699  Sugary and Porty Okay in a pinch when you need...          Fog Hill   \n",
       "21913  For 10 bucks you get a decent 10 buck wine Not...  Cottonwood Creek   \n",
       "82947  This is thin and acidic with flavors of sour c...              Hahn   \n",
       "\n",
       "           variety country price_range  \n",
       "3385     Red Blend      US         Low  \n",
       "10890    Red Blend      US         Low  \n",
       "98699    Red Blend      US         Low  \n",
       "21913  White Blend      US         Low  \n",
       "82947        G-S-M      US         Low  "
      ]
     },
     "metadata": {},
     "output_type": "display_data"
    },
    {
     "name": "stdout",
     "output_type": "stream",
     "text": [
      "distance: [[29.884403 29.254662 29.094612 28.998077 28.948282]]\n",
      "distance: [29.884403 29.254662 29.094612 28.998077 28.948282]\n"
     ]
    }
   ],
   "source": [
    "query=input(\"Enter Wine description: \")\n",
    "recommendations, distances = recommend(query)\n",
    "print(f\"\\n\\n Recommendtions for {query} are: \" )\n",
    "display(recommendations[[\"title\", \"description\", \"winery\",\"variety\",\"country\", \"price_range\"]])\n",
    "\n",
    "for distance in distances:\n",
    "    print(f\"distance: {distance}\")"
   ]
  },
  {
   "cell_type": "markdown",
   "metadata": {},
   "source": [
    "#### Evaluation"
   ]
  },
  {
   "cell_type": "code",
   "execution_count": 3,
   "metadata": {},
   "outputs": [],
   "source": [
    "# evaluator = Evaluator()\n",
    "# metrics = evaluator.evaluate()\n",
    "# print(\"\\nEvaluation Results:\")\n",
    "# for metric, value in metrics.items():\n",
    "#     print(f\"{metric}: {value:.4f}\")"
   ]
  },
  {
   "cell_type": "markdown",
   "metadata": {},
   "source": [
    "### TF-IDF"
   ]
  },
  {
   "cell_type": "code",
   "execution_count": 4,
   "metadata": {},
   "outputs": [
    {
     "name": "stdout",
     "output_type": "stream",
     "text": [
      "Top Recommendations:\n"
     ]
    },
    {
     "data": {
      "text/html": [
       "<div>\n",
       "<style scoped>\n",
       "    .dataframe tbody tr th:only-of-type {\n",
       "        vertical-align: middle;\n",
       "    }\n",
       "\n",
       "    .dataframe tbody tr th {\n",
       "        vertical-align: top;\n",
       "    }\n",
       "\n",
       "    .dataframe thead th {\n",
       "        text-align: right;\n",
       "    }\n",
       "</style>\n",
       "<table border=\"1\" class=\"dataframe\">\n",
       "  <thead>\n",
       "    <tr style=\"text-align: right;\">\n",
       "      <th></th>\n",
       "      <th>title</th>\n",
       "      <th>description</th>\n",
       "      <th>winery</th>\n",
       "      <th>variety</th>\n",
       "      <th>country</th>\n",
       "      <th>price_range</th>\n",
       "    </tr>\n",
       "  </thead>\n",
       "  <tbody>\n",
       "    <tr>\n",
       "      <th>99</th>\n",
       "      <td>Marchesi de' Frescobaldi 2015 Ammiraglia Masso...</td>\n",
       "      <td>Aromas of yellow stone fruit white spring flow...</td>\n",
       "      <td>Marchesi de' Frescobaldi</td>\n",
       "      <td>Vermentino</td>\n",
       "      <td>Italy</td>\n",
       "      <td>Low</td>\n",
       "    </tr>\n",
       "    <tr>\n",
       "      <th>98</th>\n",
       "      <td>Marchesi de' Frescobaldi 2014 Castiglioni Red ...</td>\n",
       "      <td>A blend of Cabernet Sauvignon Merlot Cabernet ...</td>\n",
       "      <td>Marchesi de' Frescobaldi</td>\n",
       "      <td>Red Blend</td>\n",
       "      <td>Italy</td>\n",
       "      <td>Medium</td>\n",
       "    </tr>\n",
       "    <tr>\n",
       "      <th>97</th>\n",
       "      <td>Marchesi Antinori 2015 Villa Antinori White (T...</td>\n",
       "      <td>Made predominantly with Trebbiano and Malvasia...</td>\n",
       "      <td>Marchesi Antinori</td>\n",
       "      <td>White Blend</td>\n",
       "      <td>Italy</td>\n",
       "      <td>Low</td>\n",
       "    </tr>\n",
       "    <tr>\n",
       "      <th>96</th>\n",
       "      <td>Madonna Alta 2014 Nativo Red (Toscana)</td>\n",
       "      <td>Made with 65 Sangiovese 20 Merlot and 15 Caber...</td>\n",
       "      <td>Madonna Alta</td>\n",
       "      <td>Red Blend</td>\n",
       "      <td>Italy</td>\n",
       "      <td>Low</td>\n",
       "    </tr>\n",
       "    <tr>\n",
       "      <th>95</th>\n",
       "      <td>Leyda 2015 Single Vineyard Falaris Hill Chardo...</td>\n",
       "      <td>A bright nose with green apple and citric arom...</td>\n",
       "      <td>Leyda</td>\n",
       "      <td>Chardonnay</td>\n",
       "      <td>Chile</td>\n",
       "      <td>Low</td>\n",
       "    </tr>\n",
       "  </tbody>\n",
       "</table>\n",
       "</div>"
      ],
      "text/plain": [
       "                                                title  \\\n",
       "99  Marchesi de' Frescobaldi 2015 Ammiraglia Masso...   \n",
       "98  Marchesi de' Frescobaldi 2014 Castiglioni Red ...   \n",
       "97  Marchesi Antinori 2015 Villa Antinori White (T...   \n",
       "96             Madonna Alta 2014 Nativo Red (Toscana)   \n",
       "95  Leyda 2015 Single Vineyard Falaris Hill Chardo...   \n",
       "\n",
       "                                          description  \\\n",
       "99  Aromas of yellow stone fruit white spring flow...   \n",
       "98  A blend of Cabernet Sauvignon Merlot Cabernet ...   \n",
       "97  Made predominantly with Trebbiano and Malvasia...   \n",
       "96  Made with 65 Sangiovese 20 Merlot and 15 Caber...   \n",
       "95  A bright nose with green apple and citric arom...   \n",
       "\n",
       "                      winery      variety country price_range  \n",
       "99  Marchesi de' Frescobaldi   Vermentino   Italy         Low  \n",
       "98  Marchesi de' Frescobaldi    Red Blend   Italy      Medium  \n",
       "97         Marchesi Antinori  White Blend   Italy         Low  \n",
       "96              Madonna Alta    Red Blend   Italy         Low  \n",
       "95                     Leyda   Chardonnay   Chile         Low  "
      ]
     },
     "metadata": {},
     "output_type": "display_data"
    }
   ],
   "source": [
    "recommender = TFIDFRecommender()\n",
    "    \n",
    "# Example usage\n",
    "x :str =input(\"Enter Wine description: \")\n",
    "price_cat= input(\"Enter price category: \")\n",
    "points_cat= input(\"Enter points category: \")\n",
    "results = recommender.recommend(\n",
    "    x,\n",
    "    price_cat=price_cat,\n",
    "    points_cat=points_cat\n",
    ")\n",
    "\n",
    "print(\"Top Recommendations:\")\n",
    "display(results[[\"title\", \"description\", \"winery\",\"variety\",\"country\", \"price_range\"]].head(5))\n",
    "    "
   ]
  },
  {
   "cell_type": "markdown",
   "metadata": {},
   "source": [
    "#### Evaluation"
   ]
  },
  {
   "cell_type": "code",
   "execution_count": 5,
   "metadata": {},
   "outputs": [
    {
     "name": "stdout",
     "output_type": "stream",
     "text": [
      "\n",
      "Evaluation Metrics:\n",
      "Precision@5: 1.0000\n",
      "Recall@5: 0.4493\n"
     ]
    }
   ],
   "source": [
    "# Example evaluation\n",
    "test_queries = [\n",
    "    \"Dry white wine from France\",\n",
    "    \"Bold Cabernet with tannins\",\n",
    "    \"Award-winning Chardonnay\",\n",
    "    \"Red wine\"\n",
    "]\n",
    "metrics = recommender.evaluate(test_queries)\n",
    "print(\"\\nEvaluation Metrics:\")\n",
    "print(f\"Precision@5: {metrics['precision']:.4f}\")\n",
    "print(f\"Recall@5: {metrics['recall']:.4f}\")"
   ]
  }
 ],
 "metadata": {
  "kernelspec": {
   "display_name": "Python 3",
   "language": "python",
   "name": "python3"
  },
  "language_info": {
   "codemirror_mode": {
    "name": "ipython",
    "version": 3
   },
   "file_extension": ".py",
   "mimetype": "text/x-python",
   "name": "python",
   "nbconvert_exporter": "python",
   "pygments_lexer": "ipython3",
   "version": "3.9.20"
  }
 },
 "nbformat": 4,
 "nbformat_minor": 2
}
