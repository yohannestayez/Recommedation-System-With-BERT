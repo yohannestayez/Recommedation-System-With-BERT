{
 "cells": [
  {
   "cell_type": "code",
   "execution_count": 11,
   "metadata": {},
   "outputs": [],
   "source": [
    "import sys\n",
    "sys.path.append('../src')\n",
    "sys.path.append('../scripts')\n",
    "import warnings\n",
    "warnings.filterwarnings(\"ignore\")\n",
    "\n",
    "from evaluation import *\n",
    "from main import *"
   ]
  },
  {
   "cell_type": "markdown",
   "metadata": {},
   "source": [
    "### Evaluation"
   ]
  },
  {
   "cell_type": "code",
   "execution_count": 12,
   "metadata": {},
   "outputs": [
    {
     "name": "stderr",
     "output_type": "stream",
     "text": [
      "Evaluating: 100%|██████████| 22308/22308 [13:03<00:00, 28.47it/s]\n"
     ]
    },
    {
     "name": "stdout",
     "output_type": "stream",
     "text": [
      "\n",
      "Evaluation Results:\n",
      "Precision@10: 0.7117\n",
      "Precision@15: 0.7133\n",
      "Recall@10: 0.6398\n",
      "Recall@15: 0.9775\n"
     ]
    }
   ],
   "source": [
    "evaluator = Evaluator()\n",
    "metrics = evaluator.evaluate()\n",
    "print(\"\\nEvaluation Results:\")\n",
    "for metric, value in metrics.items():\n",
    "    print(f\"{metric}: {value:.4f}\")"
   ]
  },
  {
   "cell_type": "markdown",
   "metadata": {},
   "source": [
    "## Recommendation System"
   ]
  },
  {
   "cell_type": "code",
   "execution_count": 14,
   "metadata": {},
   "outputs": [
    {
     "name": "stderr",
     "output_type": "stream",
     "text": [
      "Some weights of the model checkpoint at bert-base-uncased were not used when initializing BertModel: ['cls.predictions.transform.LayerNorm.bias', 'cls.seq_relationship.weight', 'cls.predictions.transform.LayerNorm.weight', 'cls.predictions.bias', 'cls.seq_relationship.bias', 'cls.predictions.transform.dense.weight', 'cls.predictions.transform.dense.bias']\n",
      "- This IS expected if you are initializing BertModel from the checkpoint of a model trained on another task or with another architecture (e.g. initializing a BertForSequenceClassification model from a BertForPreTraining model).\n",
      "- This IS NOT expected if you are initializing BertModel from the checkpoint of a model that you expect to be exactly identical (initializing a BertForSequenceClassification model from a BertForSequenceClassification model).\n"
     ]
    },
    {
     "name": "stdout",
     "output_type": "stream",
     "text": [
      "\n",
      "\n",
      " Recommendtions for Frech red wine are: \n"
     ]
    },
    {
     "data": {
      "text/html": [
       "<div>\n",
       "<style scoped>\n",
       "    .dataframe tbody tr th:only-of-type {\n",
       "        vertical-align: middle;\n",
       "    }\n",
       "\n",
       "    .dataframe tbody tr th {\n",
       "        vertical-align: top;\n",
       "    }\n",
       "\n",
       "    .dataframe thead th {\n",
       "        text-align: right;\n",
       "    }\n",
       "</style>\n",
       "<table border=\"1\" class=\"dataframe\">\n",
       "  <thead>\n",
       "    <tr style=\"text-align: right;\">\n",
       "      <th></th>\n",
       "      <th>title</th>\n",
       "      <th>variety</th>\n",
       "      <th>country</th>\n",
       "      <th>price_range</th>\n",
       "      <th>description</th>\n",
       "    </tr>\n",
       "  </thead>\n",
       "  <tbody>\n",
       "    <tr>\n",
       "      <th>52834</th>\n",
       "      <td>Monmousseau NV Cuvée J.M. Rosé Brut Sparkling ...</td>\n",
       "      <td>Sparkling Blend</td>\n",
       "      <td>France</td>\n",
       "      <td>Low</td>\n",
       "      <td>Fresh with the attractive cool feel thats typi...</td>\n",
       "    </tr>\n",
       "    <tr>\n",
       "      <th>3472</th>\n",
       "      <td>Château Belgrave 2009 Diane de Belgrave  (Haut...</td>\n",
       "      <td>Bordeaux-style Red Blend</td>\n",
       "      <td>France</td>\n",
       "      <td>Medium</td>\n",
       "      <td>Already deliciously fruity this is a big ripe ...</td>\n",
       "    </tr>\n",
       "    <tr>\n",
       "      <th>84661</th>\n",
       "      <td>Vollereaux NV Rosé de Saignée Brut Pinot Noir ...</td>\n",
       "      <td>Pinot Noir</td>\n",
       "      <td>France</td>\n",
       "      <td>Medium</td>\n",
       "      <td>A smooth and soft wine this is fruity fresh an...</td>\n",
       "    </tr>\n",
       "    <tr>\n",
       "      <th>106727</th>\n",
       "      <td>A.R. Lenoble  NV Terroirs Brut Rosé  (Champagne)</td>\n",
       "      <td>Champagne Blend</td>\n",
       "      <td>France</td>\n",
       "      <td>Medium</td>\n",
       "      <td>The base of this wine is Chardonnay with some ...</td>\n",
       "    </tr>\n",
       "    <tr>\n",
       "      <th>92373</th>\n",
       "      <td>Château Moulin de Clotte 2010  Castillon Côtes...</td>\n",
       "      <td>Bordeaux-style Red Blend</td>\n",
       "      <td>France</td>\n",
       "      <td>Low</td>\n",
       "      <td>Using fruit sourced from a 20acre vineyard in ...</td>\n",
       "    </tr>\n",
       "  </tbody>\n",
       "</table>\n",
       "</div>"
      ],
      "text/plain": [
       "                                                    title  \\\n",
       "52834   Monmousseau NV Cuvée J.M. Rosé Brut Sparkling ...   \n",
       "3472    Château Belgrave 2009 Diane de Belgrave  (Haut...   \n",
       "84661   Vollereaux NV Rosé de Saignée Brut Pinot Noir ...   \n",
       "106727   A.R. Lenoble  NV Terroirs Brut Rosé  (Champagne)   \n",
       "92373   Château Moulin de Clotte 2010  Castillon Côtes...   \n",
       "\n",
       "                         variety country price_range  \\\n",
       "52834            Sparkling Blend  France         Low   \n",
       "3472    Bordeaux-style Red Blend  France      Medium   \n",
       "84661                 Pinot Noir  France      Medium   \n",
       "106727           Champagne Blend  France      Medium   \n",
       "92373   Bordeaux-style Red Blend  France         Low   \n",
       "\n",
       "                                              description  \n",
       "52834   Fresh with the attractive cool feel thats typi...  \n",
       "3472    Already deliciously fruity this is a big ripe ...  \n",
       "84661   A smooth and soft wine this is fruity fresh an...  \n",
       "106727  The base of this wine is Chardonnay with some ...  \n",
       "92373   Using fruit sourced from a 20acre vineyard in ...  "
      ]
     },
     "metadata": {},
     "output_type": "display_data"
    }
   ],
   "source": [
    "query=input(\"Enter Wine description: \")\n",
    "recommendations = recommend(query)\n",
    "print(f\"\\n\\n Recommendtions for {query} are: \" )\n",
    "display(recommendations[[\"title\", \"variety\",\"country\", \"price_range\", \"description\"]])"
   ]
  }
 ],
 "metadata": {
  "kernelspec": {
   "display_name": "Python 3",
   "language": "python",
   "name": "python3"
  },
  "language_info": {
   "codemirror_mode": {
    "name": "ipython",
    "version": 3
   },
   "file_extension": ".py",
   "mimetype": "text/x-python",
   "name": "python",
   "nbconvert_exporter": "python",
   "pygments_lexer": "ipython3",
   "version": "3.9.20"
  }
 },
 "nbformat": 4,
 "nbformat_minor": 2
}
